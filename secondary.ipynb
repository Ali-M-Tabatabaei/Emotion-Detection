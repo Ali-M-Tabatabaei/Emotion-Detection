{
 "cells": [
  {
   "cell_type": "code",
   "execution_count": 3,
   "metadata": {},
   "outputs": [],
   "source": [
    "import numpy as np # linear algebra\n",
    "import pandas as pd # data processing, CSV file I/O (e.g. pd.read_csv)\n",
    "import os\n",
    "import matplotlib.pyplot as plt\n",
    "import seaborn as sns\n",
    "import tensorflow as tf\n",
    "import keras\n",
    "from keras.preprocessing import image\n",
    "from keras.models import Sequential\n",
    "from keras.layers import Conv2D, MaxPool2D, Flatten,Dense,Dropout,BatchNormalization\n",
    "from tensorflow.keras.preprocessing.image import ImageDataGenerator\n",
    "import cv2\n",
    "from tensorflow.keras.applications import VGG16, InceptionResNetV2\n",
    "from keras import regularizers\n",
    "from tensorflow.keras.optimizers import Adam,RMSprop,SGD,Adamax\n",
    "from keras.models import model_from_json \n"
   ]
  },
  {
   "cell_type": "code",
   "execution_count": 4,
   "metadata": {},
   "outputs": [],
   "source": [
    "train_dir = \"./archive/train\" \n",
    "test_dir = \"./archive/test\""
   ]
  },
  {
   "cell_type": "code",
   "execution_count": 5,
   "metadata": {},
   "outputs": [
    {
     "name": "stderr",
     "output_type": "stream",
     "text": [
      "/home/ali/Desktop/project/Emotion Detection/venv/lib/python3.10/site-packages/keras/src/layers/convolutional/base_conv.py:107: UserWarning: Do not pass an `input_shape`/`input_dim` argument to a layer. When using Sequential models, prefer using an `Input(shape)` object as the first layer in the model instead.\n",
      "  super().__init__(activity_regularizer=activity_regularizer, **kwargs)\n"
     ]
    }
   ],
   "source": [
    "model= tf.keras.models.Sequential()\n",
    "model.add(Conv2D(32, kernel_size=(3, 3), padding='same', activation='relu', input_shape=(48, 48,1)))\n",
    "model.add(Conv2D(64,(3,3), padding='same', activation='relu' ))\n",
    "model.add(BatchNormalization())\n",
    "model.add(MaxPool2D(pool_size=(2, 2)))\n",
    "model.add(Dropout(0.25))\n",
    "\n",
    "model.add(Conv2D(128,(5,5), padding='same', activation='relu'))\n",
    "model.add(BatchNormalization())\n",
    "model.add(MaxPool2D(pool_size=(2, 2)))\n",
    "model.add(Dropout(0.25))\n",
    "    \n",
    "model.add(Conv2D(512,(3,3), padding='same', activation='relu'))\n",
    "model.add(BatchNormalization())\n",
    "model.add(MaxPool2D(pool_size=(2, 2)))\n",
    "model.add(Dropout(0.25))\n",
    "model.add(Conv2D(512,(3,3), padding='same', activation='relu'))\n",
    "model.add(BatchNormalization())\n",
    "model.add(MaxPool2D(pool_size=(2, 2)))\n",
    "model.add(Dropout(0.25))\n",
    "\n",
    "model.add(Flatten()) \n",
    "model.add(Dense(256,activation = 'relu'))\n",
    "model.add(BatchNormalization())\n",
    "model.add(Dropout(0.25))\n",
    "    \n",
    "model.add(Dense(512,activation = 'relu'))\n",
    "model.add(BatchNormalization())\n",
    "model.add(Dropout(0.25))\n",
    "\n",
    "model.add(Dense(7, activation='softmax'))"
   ]
  },
  {
   "cell_type": "code",
   "execution_count": 6,
   "metadata": {},
   "outputs": [],
   "source": [
    "img_size=48\n",
    "train_datagen = ImageDataGenerator(width_shift_range = 0.1,\n",
    "                                         height_shift_range = 0.1,\n",
    "                                         horizontal_flip = True,\n",
    "                                         rescale = 1./255,\n",
    "                                         validation_split = 0.2\n",
    "                                        )\n",
    "validation_datagen = ImageDataGenerator(rescale = 1./255,\n",
    "                                         validation_split = 0.2)"
   ]
  },
  {
   "cell_type": "code",
   "execution_count": 7,
   "metadata": {},
   "outputs": [
    {
     "name": "stdout",
     "output_type": "stream",
     "text": [
      "Found 22968 images belonging to 7 classes.\n",
      "Found 1432 images belonging to 7 classes.\n"
     ]
    }
   ],
   "source": [
    "train_generator = train_datagen.flow_from_directory(directory = train_dir,\n",
    "                                                    target_size = (img_size,img_size),\n",
    "                                                    batch_size = 64,\n",
    "                                                    color_mode = \"grayscale\",\n",
    "                                                    class_mode = \"categorical\",\n",
    "                                                    subset = \"training\"\n",
    "                                                   )\n",
    "validation_generator = validation_datagen.flow_from_directory( directory = test_dir,\n",
    "                                                              target_size = (img_size,img_size),\n",
    "                                                              batch_size = 64,\n",
    "                                                              color_mode = \"grayscale\",\n",
    "                                                              class_mode = \"categorical\",\n",
    "                                                              subset = \"validation\"\n",
    "                                                             )"
   ]
  },
  {
   "cell_type": "code",
   "execution_count": 8,
   "metadata": {},
   "outputs": [],
   "source": [
    "model.compile(\n",
    "    optimizer = Adam(learning_rate=0.001), \n",
    "    loss='categorical_crossentropy', \n",
    "    metrics=['accuracy']\n",
    "  )"
   ]
  },
  {
   "cell_type": "code",
   "execution_count": 14,
   "metadata": {},
   "outputs": [
    {
     "name": "stdout",
     "output_type": "stream",
     "text": [
      "Epoch 1/45\n"
     ]
    },
    {
     "name": "stderr",
     "output_type": "stream",
     "text": [
      "/home/ali/Desktop/project/Emotion Detection/venv/lib/python3.10/site-packages/keras/src/trainers/data_adapters/py_dataset_adapter.py:121: UserWarning: Your `PyDataset` class should call `super().__init__(**kwargs)` in its constructor. `**kwargs` can include `workers`, `use_multiprocessing`, `max_queue_size`. Do not pass these arguments to `fit()`, as they will be ignored.\n",
      "  self._warn_if_super_not_called()\n"
     ]
    },
    {
     "name": "stdout",
     "output_type": "stream",
     "text": [
      "\u001b[1m359/359\u001b[0m \u001b[32m━━━━━━━━━━━━━━━━━━━━\u001b[0m\u001b[37m\u001b[0m \u001b[1m271s\u001b[0m 749ms/step - accuracy: 0.1985 - loss: 2.2807 - val_accuracy: 0.2500 - val_loss: 1.8688\n",
      "Epoch 2/45\n",
      "\u001b[1m359/359\u001b[0m \u001b[32m━━━━━━━━━━━━━━━━━━━━\u001b[0m\u001b[37m\u001b[0m \u001b[1m274s\u001b[0m 762ms/step - accuracy: 0.2794 - loss: 1.8429 - val_accuracy: 0.2961 - val_loss: 1.9008\n",
      "Epoch 3/45\n",
      "\u001b[1m359/359\u001b[0m \u001b[32m━━━━━━━━━━━━━━━━━━━━\u001b[0m\u001b[37m\u001b[0m \u001b[1m272s\u001b[0m 757ms/step - accuracy: 0.3714 - loss: 1.6262 - val_accuracy: 0.3282 - val_loss: 1.8828\n",
      "Epoch 4/45\n",
      "\u001b[1m359/359\u001b[0m \u001b[32m━━━━━━━━━━━━━━━━━━━━\u001b[0m\u001b[37m\u001b[0m \u001b[1m256s\u001b[0m 712ms/step - accuracy: 0.4434 - loss: 1.4455 - val_accuracy: 0.4909 - val_loss: 1.3382\n",
      "Epoch 5/45\n",
      "\u001b[1m359/359\u001b[0m \u001b[32m━━━━━━━━━━━━━━━━━━━━\u001b[0m\u001b[37m\u001b[0m \u001b[1m243s\u001b[0m 676ms/step - accuracy: 0.4979 - loss: 1.3246 - val_accuracy: 0.5070 - val_loss: 1.3022\n",
      "Epoch 6/45\n",
      "\u001b[1m359/359\u001b[0m \u001b[32m━━━━━━━━━━━━━━━━━━━━\u001b[0m\u001b[37m\u001b[0m \u001b[1m243s\u001b[0m 676ms/step - accuracy: 0.5152 - loss: 1.2614 - val_accuracy: 0.5496 - val_loss: 1.2164\n",
      "Epoch 7/45\n",
      "\u001b[1m359/359\u001b[0m \u001b[32m━━━━━━━━━━━━━━━━━━━━\u001b[0m\u001b[37m\u001b[0m \u001b[1m243s\u001b[0m 676ms/step - accuracy: 0.5418 - loss: 1.1931 - val_accuracy: 0.5719 - val_loss: 1.1515\n",
      "Epoch 8/45\n",
      "\u001b[1m359/359\u001b[0m \u001b[32m━━━━━━━━━━━━━━━━━━━━\u001b[0m\u001b[37m\u001b[0m \u001b[1m243s\u001b[0m 677ms/step - accuracy: 0.5566 - loss: 1.1552 - val_accuracy: 0.5168 - val_loss: 1.3014\n",
      "Epoch 9/45\n",
      "\u001b[1m359/359\u001b[0m \u001b[32m━━━━━━━━━━━━━━━━━━━━\u001b[0m\u001b[37m\u001b[0m \u001b[1m261s\u001b[0m 726ms/step - accuracy: 0.5719 - loss: 1.1361 - val_accuracy: 0.6061 - val_loss: 1.1001\n",
      "Epoch 10/45\n",
      "\u001b[1m359/359\u001b[0m \u001b[32m━━━━━━━━━━━━━━━━━━━━\u001b[0m\u001b[37m\u001b[0m \u001b[1m265s\u001b[0m 737ms/step - accuracy: 0.5870 - loss: 1.0987 - val_accuracy: 0.5873 - val_loss: 1.1195\n",
      "Epoch 11/45\n",
      "\u001b[1m359/359\u001b[0m \u001b[32m━━━━━━━━━━━━━━━━━━━━\u001b[0m\u001b[37m\u001b[0m \u001b[1m272s\u001b[0m 757ms/step - accuracy: 0.5768 - loss: 1.1012 - val_accuracy: 0.6159 - val_loss: 1.0364\n",
      "Epoch 12/45\n",
      "\u001b[1m359/359\u001b[0m \u001b[32m━━━━━━━━━━━━━━━━━━━━\u001b[0m\u001b[37m\u001b[0m \u001b[1m279s\u001b[0m 777ms/step - accuracy: 0.5935 - loss: 1.0634 - val_accuracy: 0.3827 - val_loss: 1.6544\n",
      "Epoch 13/45\n",
      "\u001b[1m359/359\u001b[0m \u001b[32m━━━━━━━━━━━━━━━━━━━━\u001b[0m\u001b[37m\u001b[0m \u001b[1m282s\u001b[0m 786ms/step - accuracy: 0.5966 - loss: 1.0668 - val_accuracy: 0.6061 - val_loss: 1.0375\n",
      "Epoch 14/45\n",
      "\u001b[1m359/359\u001b[0m \u001b[32m━━━━━━━━━━━━━━━━━━━━\u001b[0m\u001b[37m\u001b[0m \u001b[1m294s\u001b[0m 818ms/step - accuracy: 0.6072 - loss: 1.0355 - val_accuracy: 0.6145 - val_loss: 1.0369\n",
      "Epoch 15/45\n",
      "\u001b[1m359/359\u001b[0m \u001b[32m━━━━━━━━━━━━━━━━━━━━\u001b[0m\u001b[37m\u001b[0m \u001b[1m296s\u001b[0m 824ms/step - accuracy: 0.6101 - loss: 1.0322 - val_accuracy: 0.6131 - val_loss: 1.0297\n",
      "Epoch 16/45\n",
      "\u001b[1m359/359\u001b[0m \u001b[32m━━━━━━━━━━━━━━━━━━━━\u001b[0m\u001b[37m\u001b[0m \u001b[1m302s\u001b[0m 841ms/step - accuracy: 0.6181 - loss: 1.0029 - val_accuracy: 0.5985 - val_loss: 1.0491\n",
      "Epoch 17/45\n",
      "\u001b[1m359/359\u001b[0m \u001b[32m━━━━━━━━━━━━━━━━━━━━\u001b[0m\u001b[37m\u001b[0m \u001b[1m289s\u001b[0m 805ms/step - accuracy: 0.6239 - loss: 1.0016 - val_accuracy: 0.6362 - val_loss: 0.9991\n",
      "Epoch 18/45\n",
      "\u001b[1m359/359\u001b[0m \u001b[32m━━━━━━━━━━━━━━━━━━━━\u001b[0m\u001b[37m\u001b[0m \u001b[1m283s\u001b[0m 789ms/step - accuracy: 0.6337 - loss: 0.9770 - val_accuracy: 0.6152 - val_loss: 1.0684\n",
      "Epoch 19/45\n",
      "\u001b[1m359/359\u001b[0m \u001b[32m━━━━━━━━━━━━━━━━━━━━\u001b[0m\u001b[37m\u001b[0m \u001b[1m265s\u001b[0m 737ms/step - accuracy: 0.6248 - loss: 0.9780 - val_accuracy: 0.6236 - val_loss: 1.0010\n",
      "Epoch 20/45\n",
      "\u001b[1m359/359\u001b[0m \u001b[32m━━━━━━━━━━━━━━━━━━━━\u001b[0m\u001b[37m\u001b[0m \u001b[1m255s\u001b[0m 710ms/step - accuracy: 0.6400 - loss: 0.9579 - val_accuracy: 0.6278 - val_loss: 1.0158\n",
      "Epoch 21/45\n",
      "\u001b[1m359/359\u001b[0m \u001b[32m━━━━━━━━━━━━━━━━━━━━\u001b[0m\u001b[37m\u001b[0m \u001b[1m263s\u001b[0m 731ms/step - accuracy: 0.6377 - loss: 0.9612 - val_accuracy: 0.6222 - val_loss: 1.0200\n",
      "Epoch 22/45\n",
      "\u001b[1m359/359\u001b[0m \u001b[32m━━━━━━━━━━━━━━━━━━━━\u001b[0m\u001b[37m\u001b[0m \u001b[1m286s\u001b[0m 796ms/step - accuracy: 0.6457 - loss: 0.9374 - val_accuracy: 0.6508 - val_loss: 0.9702\n",
      "Epoch 23/45\n",
      "\u001b[1m359/359\u001b[0m \u001b[32m━━━━━━━━━━━━━━━━━━━━\u001b[0m\u001b[37m\u001b[0m \u001b[1m296s\u001b[0m 824ms/step - accuracy: 0.6499 - loss: 0.9300 - val_accuracy: 0.6404 - val_loss: 1.0026\n",
      "Epoch 24/45\n",
      "\u001b[1m359/359\u001b[0m \u001b[32m━━━━━━━━━━━━━━━━━━━━\u001b[0m\u001b[37m\u001b[0m \u001b[1m287s\u001b[0m 798ms/step - accuracy: 0.6569 - loss: 0.9171 - val_accuracy: 0.6522 - val_loss: 0.9811\n",
      "Epoch 25/45\n",
      "\u001b[1m359/359\u001b[0m \u001b[32m━━━━━━━━━━━━━━━━━━━━\u001b[0m\u001b[37m\u001b[0m \u001b[1m276s\u001b[0m 769ms/step - accuracy: 0.6629 - loss: 0.8976 - val_accuracy: 0.6592 - val_loss: 0.9492\n",
      "Epoch 26/45\n",
      "\u001b[1m359/359\u001b[0m \u001b[32m━━━━━━━━━━━━━━━━━━━━\u001b[0m\u001b[37m\u001b[0m \u001b[1m276s\u001b[0m 769ms/step - accuracy: 0.6632 - loss: 0.8966 - val_accuracy: 0.6194 - val_loss: 1.0410\n",
      "Epoch 27/45\n",
      "\u001b[1m359/359\u001b[0m \u001b[32m━━━━━━━━━━━━━━━━━━━━\u001b[0m\u001b[37m\u001b[0m \u001b[1m273s\u001b[0m 759ms/step - accuracy: 0.6679 - loss: 0.8798 - val_accuracy: 0.6536 - val_loss: 0.9448\n",
      "Epoch 28/45\n",
      "\u001b[1m359/359\u001b[0m \u001b[32m━━━━━━━━━━━━━━━━━━━━\u001b[0m\u001b[37m\u001b[0m \u001b[1m257s\u001b[0m 716ms/step - accuracy: 0.6730 - loss: 0.8787 - val_accuracy: 0.6292 - val_loss: 1.0244\n",
      "Epoch 29/45\n",
      "\u001b[1m359/359\u001b[0m \u001b[32m━━━━━━━━━━━━━━━━━━━━\u001b[0m\u001b[37m\u001b[0m \u001b[1m257s\u001b[0m 715ms/step - accuracy: 0.6794 - loss: 0.8615 - val_accuracy: 0.6690 - val_loss: 0.9471\n",
      "Epoch 30/45\n",
      "\u001b[1m359/359\u001b[0m \u001b[32m━━━━━━━━━━━━━━━━━━━━\u001b[0m\u001b[37m\u001b[0m \u001b[1m257s\u001b[0m 714ms/step - accuracy: 0.6841 - loss: 0.8399 - val_accuracy: 0.6543 - val_loss: 0.9584\n",
      "Epoch 31/45\n",
      "\u001b[1m359/359\u001b[0m \u001b[32m━━━━━━━━━━━━━━━━━━━━\u001b[0m\u001b[37m\u001b[0m \u001b[1m257s\u001b[0m 715ms/step - accuracy: 0.6753 - loss: 0.8502 - val_accuracy: 0.6487 - val_loss: 1.0211\n",
      "Epoch 32/45\n",
      "\u001b[1m359/359\u001b[0m \u001b[32m━━━━━━━━━━━━━━━━━━━━\u001b[0m\u001b[37m\u001b[0m \u001b[1m257s\u001b[0m 716ms/step - accuracy: 0.6915 - loss: 0.8268 - val_accuracy: 0.6411 - val_loss: 0.9643\n",
      "Epoch 33/45\n",
      "\u001b[1m359/359\u001b[0m \u001b[32m━━━━━━━━━━━━━━━━━━━━\u001b[0m\u001b[37m\u001b[0m \u001b[1m257s\u001b[0m 715ms/step - accuracy: 0.6882 - loss: 0.8269 - val_accuracy: 0.6404 - val_loss: 0.9465\n",
      "Epoch 34/45\n",
      "\u001b[1m359/359\u001b[0m \u001b[32m━━━━━━━━━━━━━━━━━━━━\u001b[0m\u001b[37m\u001b[0m \u001b[1m257s\u001b[0m 716ms/step - accuracy: 0.6894 - loss: 0.8282 - val_accuracy: 0.6466 - val_loss: 0.9629\n",
      "Epoch 35/45\n",
      "\u001b[1m359/359\u001b[0m \u001b[32m━━━━━━━━━━━━━━━━━━━━\u001b[0m\u001b[37m\u001b[0m \u001b[1m257s\u001b[0m 716ms/step - accuracy: 0.7011 - loss: 0.8037 - val_accuracy: 0.6599 - val_loss: 0.9616\n",
      "Epoch 36/45\n",
      "\u001b[1m359/359\u001b[0m \u001b[32m━━━━━━━━━━━━━━━━━━━━\u001b[0m\u001b[37m\u001b[0m \u001b[1m257s\u001b[0m 715ms/step - accuracy: 0.7043 - loss: 0.7959 - val_accuracy: 0.6564 - val_loss: 0.9509\n",
      "Epoch 37/45\n",
      "\u001b[1m359/359\u001b[0m \u001b[32m━━━━━━━━━━━━━━━━━━━━\u001b[0m\u001b[37m\u001b[0m \u001b[1m258s\u001b[0m 717ms/step - accuracy: 0.7029 - loss: 0.7824 - val_accuracy: 0.6634 - val_loss: 0.9534\n",
      "Epoch 38/45\n",
      "\u001b[1m359/359\u001b[0m \u001b[32m━━━━━━━━━━━━━━━━━━━━\u001b[0m\u001b[37m\u001b[0m \u001b[1m263s\u001b[0m 733ms/step - accuracy: 0.7067 - loss: 0.7811 - val_accuracy: 0.6446 - val_loss: 0.9970\n",
      "Epoch 39/45\n",
      "\u001b[1m359/359\u001b[0m \u001b[32m━━━━━━━━━━━━━━━━━━━━\u001b[0m\u001b[37m\u001b[0m \u001b[1m282s\u001b[0m 784ms/step - accuracy: 0.7048 - loss: 0.7916 - val_accuracy: 0.6585 - val_loss: 0.9956\n",
      "Epoch 40/45\n",
      "\u001b[1m359/359\u001b[0m \u001b[32m━━━━━━━━━━━━━━━━━━━━\u001b[0m\u001b[37m\u001b[0m \u001b[1m284s\u001b[0m 789ms/step - accuracy: 0.7080 - loss: 0.7765 - val_accuracy: 0.6788 - val_loss: 0.9589\n",
      "Epoch 41/45\n",
      "\u001b[1m359/359\u001b[0m \u001b[32m━━━━━━━━━━━━━━━━━━━━\u001b[0m\u001b[37m\u001b[0m \u001b[1m290s\u001b[0m 807ms/step - accuracy: 0.7107 - loss: 0.7652 - val_accuracy: 0.6473 - val_loss: 1.0246\n",
      "Epoch 42/45\n",
      "\u001b[1m359/359\u001b[0m \u001b[32m━━━━━━━━━━━━━━━━━━━━\u001b[0m\u001b[37m\u001b[0m \u001b[1m287s\u001b[0m 799ms/step - accuracy: 0.7172 - loss: 0.7592 - val_accuracy: 0.6592 - val_loss: 0.9724\n",
      "Epoch 43/45\n",
      "\u001b[1m359/359\u001b[0m \u001b[32m━━━━━━━━━━━━━━━━━━━━\u001b[0m\u001b[37m\u001b[0m \u001b[1m292s\u001b[0m 814ms/step - accuracy: 0.7224 - loss: 0.7572 - val_accuracy: 0.6327 - val_loss: 1.0228\n",
      "Epoch 44/45\n",
      "\u001b[1m359/359\u001b[0m \u001b[32m━━━━━━━━━━━━━━━━━━━━\u001b[0m\u001b[37m\u001b[0m \u001b[1m285s\u001b[0m 794ms/step - accuracy: 0.7265 - loss: 0.7283 - val_accuracy: 0.6648 - val_loss: 0.9582\n",
      "Epoch 45/45\n",
      "\u001b[1m359/359\u001b[0m \u001b[32m━━━━━━━━━━━━━━━━━━━━\u001b[0m\u001b[37m\u001b[0m \u001b[1m286s\u001b[0m 795ms/step - accuracy: 0.7303 - loss: 0.7153 - val_accuracy: 0.6585 - val_loss: 0.9993\n"
     ]
    }
   ],
   "source": [
    "epochs = 45\n",
    "batch_size = 64\n",
    "history = model.fit(x = train_generator,epochs = epochs,validation_data = validation_generator)"
   ]
  },
  {
   "cell_type": "code",
   "execution_count": 19,
   "metadata": {},
   "outputs": [],
   "source": [
    "model_json = model.to_json() \n",
    "with open(\"emotion_model_secondary.json\", \"w\") as json_file: \n",
    "    json_file.write(model_json)"
   ]
  },
  {
   "cell_type": "code",
   "execution_count": 9,
   "metadata": {},
   "outputs": [],
   "source": [
    "json_file = open('emotion_model_secondary.json', 'r') \n",
    "loaded_model_json = json_file.read() \n",
    "json_file.close() \n",
    "model = model_from_json(loaded_model_json)"
   ]
  },
  {
   "cell_type": "code",
   "execution_count": 10,
   "metadata": {},
   "outputs": [],
   "source": [
    "from tensorflow.keras.preprocessing.image import load_img, img_to_array\n",
    "\n",
    "img_height = 48\n",
    "img_width = 48\n",
    "\n",
    "# Preprocess the input image\n",
    "def preprocess_image(image_path):\n",
    "    img = load_img(image_path, color_mode='grayscale', target_size=(img_height, img_width))\n",
    "    img_array = img_to_array(img)\n",
    "    img_array = img_array / 255.0  # Normalize pixel values\n",
    "    img_array = tf.expand_dims(img_array, 0)  # Add batch dimension\n",
    "    return img_array\n",
    "\n",
    "def predict_emotion_with_image(image_path):\n",
    "    # Load and display the image\n",
    "    img = load_img(image_path, color_mode='grayscale', target_size=(img_height, img_width))\n",
    "    plt.imshow(img, cmap='gray')\n",
    "    plt.axis('off')\n",
    "    plt.show()\n",
    "    \n",
    "    # Preprocess the image\n",
    "    preprocessed_img = preprocess_image(image_path)\n",
    "    \n",
    "    # Make predictions\n",
    "    predictions = model.predict(preprocessed_img)\n",
    "    predicted_class = tf.argmax(predictions[0]).numpy()\n",
    "    \n",
    "    return predicted_class\n",
    "\n",
    "\n",
    "def class_to_emotion(predicted_emotion):\n",
    "    res_dict = {0: 'angry', \n",
    "                1: 'disgusted',\n",
    "                2: 'fearful',\n",
    "                3: 'happy',\n",
    "                4: 'neutral',\n",
    "                5: 'sad',\n",
    "                6: 'surprised'\n",
    "               }\n",
    "    \n",
    "    return res_dict[predicted_emotion]"
   ]
  },
  {
   "cell_type": "code",
   "execution_count": 23,
   "metadata": {},
   "outputs": [
    {
     "data": {
      "image/png": "[encoded data removed]",
      "text/plain": [
       "<Figure size 640x480 with 1 Axes>"
      ]
     },
     "metadata": {},
     "output_type": "display_data"
    },
    {
     "name": "stdout",
     "output_type": "stream",
     "text": [
      "\u001b[1m1/1\u001b[0m \u001b[32m━━━━━━━━━━━━━━━━━━━━\u001b[0m\u001b[37m\u001b[0m \u001b[1m0s\u001b[0m 25ms/step\n",
      "Predicted emotion class: happy\n"
     ]
    }
   ],
   "source": [
    "image_path = \"./archive/test/happy/im30.png\"\n",
    "predicted_emotion = predict_emotion_with_image(image_path)\n",
    "print(\"Predicted emotion class:\", class_to_emotion(predicted_emotion))"
   ]
  },
  {
   "cell_type": "code",
   "execution_count": 11,
   "metadata": {},
   "outputs": [
    {
     "name": "stderr",
     "output_type": "stream",
     "text": [
      "qt.qpa.plugin: Could not find the Qt platform plugin \"wayland\" in \"/home/ali/Desktop/project/Emotion Detection/venv/lib/python3.10/site-packages/cv2/qt/plugins\"\n"
     ]
    },
    {
     "name": "stdout",
     "output_type": "stream",
     "text": [
      "\u001b[1m1/1\u001b[0m \u001b[32m━━━━━━━━━━━━━━━━━━━━\u001b[0m\u001b[37m\u001b[0m \u001b[1m0s\u001b[0m 209ms/step\n"
     ]
    },
    {
     "ename": "TypeError",
     "evalue": "'Sequential' object is not subscriptable",
     "output_type": "error",
     "traceback": [
      "\u001b[0;31m---------------------------------------------------------------------------\u001b[0m",
      "\u001b[0;31mTypeError\u001b[0m                                 Traceback (most recent call last)",
      "Cell \u001b[0;32mIn[11], line 26\u001b[0m\n\u001b[1;32m     24\u001b[0m     emotion_prediction \u001b[38;5;241m=\u001b[39m model\u001b[38;5;241m.\u001b[39mpredict(cropped_img) \n\u001b[1;32m     25\u001b[0m     maxindex \u001b[38;5;241m=\u001b[39m \u001b[38;5;28mint\u001b[39m(np\u001b[38;5;241m.\u001b[39margmax(emotion_prediction)) \n\u001b[0;32m---> 26\u001b[0m     cv2\u001b[38;5;241m.\u001b[39mputText(frame, \u001b[43mmodel\u001b[49m\u001b[43m[\u001b[49m\u001b[43mmaxindex\u001b[49m\u001b[43m]\u001b[49m, (x\u001b[38;5;241m+\u001b[39m\u001b[38;5;241m5\u001b[39m, y\u001b[38;5;241m-\u001b[39m\u001b[38;5;241m20\u001b[39m),  \n\u001b[1;32m     27\u001b[0m                 cv2\u001b[38;5;241m.\u001b[39mFONT_HERSHEY_SIMPLEX, \u001b[38;5;241m1\u001b[39m, (\u001b[38;5;241m0\u001b[39m, \u001b[38;5;241m0\u001b[39m, \u001b[38;5;241m255\u001b[39m), \u001b[38;5;241m2\u001b[39m, cv2\u001b[38;5;241m.\u001b[39mLINE_AA) \n\u001b[1;32m     29\u001b[0m cv2\u001b[38;5;241m.\u001b[39mimshow(\u001b[38;5;124m'\u001b[39m\u001b[38;5;124mEmotion Detection\u001b[39m\u001b[38;5;124m'\u001b[39m, frame) \n\u001b[1;32m     30\u001b[0m \u001b[38;5;28;01mif\u001b[39;00m cv2\u001b[38;5;241m.\u001b[39mwaitKey(\u001b[38;5;241m1\u001b[39m) \u001b[38;5;241m&\u001b[39m \u001b[38;5;241m0xFF\u001b[39m \u001b[38;5;241m==\u001b[39m \u001b[38;5;28mord\u001b[39m(\u001b[38;5;124m'\u001b[39m\u001b[38;5;124mq\u001b[39m\u001b[38;5;124m'\u001b[39m): \n",
      "\u001b[0;31mTypeError\u001b[0m: 'Sequential' object is not subscriptable"
     ]
    },
    {
     "ename": "",
     "evalue": "",
     "output_type": "error",
     "traceback": [
      "\u001b[1;31mThe Kernel crashed while executing code in the current cell or a previous cell. \n",
      "\u001b[1;31mPlease review the code in the cell(s) to identify a possible cause of the failure. \n",
      "\u001b[1;31mClick <a href='https://aka.ms/vscodeJupyterKernelCrash'>here</a> for more info. \n",
      "\u001b[1;31mView Jupyter <a href='command:jupyter.viewOutput'>log</a> for further details."
     ]
    }
   ],
   "source": [
    "cap = cv2.VideoCapture(0) \n",
    "while True: \n",
    "    # Find haar cascade to draw bounding box around face \n",
    "    ret, frame = cap.read() \n",
    "    frame = cv2.resize(frame, (1280, 720)) \n",
    "    if not ret: \n",
    "        print(ret) \n",
    "    # Create a face detector \n",
    "    face_detector = cv2.CascadeClassifier(cv2.data.haarcascades + 'haarcascade_frontalface_default.xml') \n",
    "\n",
    "    gray_frame = cv2.cvtColor(frame, cv2.COLOR_BGR2GRAY) \n",
    "\n",
    "    # detect faces available on camera \n",
    "    num_faces = face_detector.detectMultiScale(gray_frame,  \n",
    "                                            scaleFactor=1.3, minNeighbors=5) \n",
    "\n",
    "    # take each face available on the camera and Preprocess it \n",
    "    for (x, y, w, h) in num_faces: \n",
    "        cv2.rectangle(frame, (x, y-50), (x+w, y+h+10), (0, 255, 0), 4) \n",
    "        roi_gray_frame = gray_frame[y:y + h, x:x + w] \n",
    "        cropped_img = np.expand_dims(np.expand_dims(cv2.resize(roi_gray_frame,  \n",
    "                                                                (48, 48)), -1), 0) \n",
    "        # predict the emotions \n",
    "        emotion_prediction = model.predict(cropped_img) \n",
    "        maxindex = int(np.argmax(emotion_prediction)) \n",
    "        cv2.putText(frame, model[maxindex], (x+5, y-20),  \n",
    "                    cv2.FONT_HERSHEY_SIMPLEX, 1, (0, 0, 255), 2, cv2.LINE_AA) \n",
    "\n",
    "    cv2.imshow('Emotion Detection', frame) \n",
    "    if cv2.waitKey(1) & 0xFF == ord('q'): \n",
    "        break\n",
    "\n",
    "cap.release() \n",
    "cv2.destroyAllWindows()\n",
    "\n",
    "# save trained model weight in .h5 file \n",
    "model.save_weights('emotion_model.h5')"
   ]
  }
 ],
 "metadata": {
  "kernelspec": {
   "display_name": "venv",
   "language": "python",
   "name": "python3"
  },
  "language_info": {
   "codemirror_mode": {
    "name": "ipython",
    "version": 3
   },
   "file_extension": ".py",
   "mimetype": "text/x-python",
   "name": "python",
   "nbconvert_exporter": "python",
   "pygments_lexer": "ipython3",
   "version": "3.10.12"
  }
 },
 "nbformat": 4,
 "nbformat_minor": 2
}
